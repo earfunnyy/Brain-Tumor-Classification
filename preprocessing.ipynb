{
 "cells": [
  {
   "cell_type": "code",
   "execution_count": 4,
   "id": "b09cd74b-055e-4f54-979d-7410dd5ca659",
   "metadata": {},
   "outputs": [],
   "source": [
    "import matplotlib.pyplot as plt\n",
    "import seaborn as sns\n",
    "import os\n",
    "import zipfile\n",
    "import shutil\n",
    "from PIL import Image\n",
    "from imgaug import augmenters as iaa\n",
    "import numpy as np\n",
    "import pandas as pd\n",
    "import time\n",
    "import dask.bag as db\n",
    "import dask.diagnostics as dd\n",
    "import random\n",
    "from termcolor import colored"
   ]
  },
  {
   "cell_type": "code",
   "execution_count": 5,
   "id": "592c3410-85e8-448f-b272-efb77a42d230",
   "metadata": {},
   "outputs": [
    {
     "data": {
      "text/plain": [
       "'/Users/irfani/Library/CloudStorage/OneDrive-TelkomUniversity/irfani/Telkom University/7_Semester 7/TA/Penelitian'"
      ]
     },
     "execution_count": 5,
     "metadata": {},
     "output_type": "execute_result"
    }
   ],
   "source": [
    "CWD = os.getcwd()\n",
    "CWD"
   ]
  },
  {
   "cell_type": "markdown",
   "id": "721126b4-5d0f-4ed5-84f4-2ab7b9d7a35c",
   "metadata": {},
   "source": [
    "# Function"
   ]
  },
  {
   "cell_type": "code",
   "execution_count": 6,
   "id": "43d94609-0a20-443a-ac8f-d95a09c3942b",
   "metadata": {},
   "outputs": [],
   "source": [
    "def load_images_from_folder(folder_path):\n",
    "    images = []\n",
    "    image_names = []\n",
    "    for filename in os.listdir(folder_path):\n",
    "        img_path = os.path.join(folder_path, filename)\n",
    "        if os.path.isfile(img_path) and filename.endswith(('.png', '.jpg', '.jpeg')):\n",
    "            img = Image.open(img_path).convert('L')\n",
    "            images.append(np.array(img))\n",
    "            image_names.append(filename)\n",
    "    return np.array(images), image_names"
   ]
  },
  {
   "cell_type": "code",
   "execution_count": 7,
   "id": "7b070696-9572-4bc4-880c-3b01181d6701",
   "metadata": {},
   "outputs": [],
   "source": [
    "def save_images(list_images, list_image_names, move_to, list_folder_path, prefix=\"aug\"):\n",
    "    move_to = \"dataset/\" + move_to\n",
    "    move_path = os.path.join(CWD, move_to)\n",
    "\n",
    "    if os.path.exists(move_path):\n",
    "        shutil.rmtree(move_path)\n",
    "        print(f\"Removed existing directory: {move_path}\")\n",
    "    os.makedirs(move_path)\n",
    "\n",
    "    for path, images, image_names in zip(list_folder_path, list_images, list_image_names):\n",
    "        print(len(images))\n",
    "        if os.path.exists(path):\n",
    "            shutil.rmtree(path)\n",
    "            print(f\"Removed existing directory: {path}\")\n",
    "        os.makedirs(path)\n",
    "\n",
    "        for i, img in enumerate(images):\n",
    "                    if i < len(image_names):\n",
    "                        base_name, ext = os.path.splitext(image_names[i])\n",
    "                        augmented_image_name = f\"{base_name}{ext}\"\n",
    "                    else:\n",
    "                        augmented_image_name = f\"{prefix}_{i}.png\"\n",
    "\n",
    "                    augmented_image_pil = Image.fromarray(img)\n",
    "                    augmented_image_path = os.path.join(path, augmented_image_name)\n",
    "                    augmented_image_pil.save(augmented_image_path)"
   ]
  },
  {
   "cell_type": "code",
   "execution_count": 8,
   "id": "18c0b82b-1b3c-439b-ba56-27ae549c46cd",
   "metadata": {},
   "outputs": [],
   "source": [
    "def gamma_correction(images, gamma):\n",
    "    images = images/255.0\n",
    "    corrected_images = np.power(images, gamma)\n",
    "    corrected_images = np.clip(corrected_images * 255.0, 0, 255).astype(np.uint8)\n",
    "\n",
    "    return corrected_images"
   ]
  },
  {
   "cell_type": "markdown",
   "id": "1c39cb97-c944-4dc4-8461-07880e8f7cbe",
   "metadata": {},
   "source": [
    "# Implementation"
   ]
  },
  {
   "cell_type": "code",
   "execution_count": 9,
   "id": "28423ebf-007e-403e-b219-19ebe57f38d4",
   "metadata": {},
   "outputs": [],
   "source": [
    "RAW_FOLDER=[\n",
    "    CWD+'/dataset/raw/glioma_tumor',\n",
    "    CWD+'/dataset/raw/meningioma_tumor',\n",
    "    CWD+'/dataset/raw/pituitary_tumor',\n",
    "    CWD+'/dataset/raw/normal'\n",
    "]\n",
    "\n",
    "GLIOMA_PATH = RAW_FOLDER[0]\n",
    "MENINGIOMA_PATH = RAW_FOLDER[1]\n",
    "PITUITARY_PATH = RAW_FOLDER[2]\n",
    "NORMAL_PATH = RAW_FOLDER[3]"
   ]
  },
  {
   "cell_type": "code",
   "execution_count": 10,
   "id": "2be45901-fc8d-487a-ab1f-753293d72d3c",
   "metadata": {},
   "outputs": [
    {
     "name": "stdout",
     "output_type": "stream",
     "text": [
      "892\n",
      "889\n",
      "840\n",
      "434\n"
     ]
    }
   ],
   "source": [
    "glioma, glioma_names = load_images_from_folder(GLIOMA_PATH)\n",
    "meningioma, meningioma_names = load_images_from_folder(MENINGIOMA_PATH)\n",
    "pituitary, pituitary_names = load_images_from_folder(PITUITARY_PATH)\n",
    "normal, normal_names = load_images_from_folder(NORMAL_PATH)\n",
    "\n",
    "print(len(glioma))\n",
    "print(len(meningioma))\n",
    "print(len(pituitary))\n",
    "print(len(normal))"
   ]
  },
  {
   "cell_type": "code",
   "execution_count": 11,
   "id": "dd3e5e4f-166b-4ed2-8f8f-6904b4401b99",
   "metadata": {},
   "outputs": [],
   "source": [
    "# glioma = add_noise(glioma, 0, 5)\n",
    "glioma = gamma_correction(glioma, 1.2)"
   ]
  },
  {
   "cell_type": "code",
   "execution_count": 12,
   "id": "831a667d-7072-41cd-9be1-e8bdff74ac52",
   "metadata": {},
   "outputs": [],
   "source": [
    "# meningioma = add_noise(meningioma, 0, 5)\n",
    "meningioma = gamma_correction(meningioma, 1.2)"
   ]
  },
  {
   "cell_type": "code",
   "execution_count": 13,
   "id": "cdc92c19-a990-4494-8a6f-5660e21f3dd3",
   "metadata": {},
   "outputs": [],
   "source": [
    "# pituitary = add_noise(pituitary, 0, 5)\n",
    "pituitary = gamma_correction(pituitary, 1.2)"
   ]
  },
  {
   "cell_type": "code",
   "execution_count": 14,
   "id": "723345c6-907e-432b-9e22-2346b353d644",
   "metadata": {},
   "outputs": [],
   "source": [
    "# normal = add_noise(normal, 0, 5)\n",
    "normal = gamma_correction(normal, 1.2)"
   ]
  },
  {
   "cell_type": "code",
   "execution_count": 15,
   "id": "dbbde68d-f765-44b9-aa5b-cf9c3ffecd3b",
   "metadata": {},
   "outputs": [
    {
     "name": "stdout",
     "output_type": "stream",
     "text": [
      "Removed existing directory: /Users/irfani/Library/CloudStorage/OneDrive-TelkomUniversity/irfani/Telkom University/7_Semester 7/TA/Penelitian/dataset/processed\n",
      "892\n",
      "889\n",
      "840\n",
      "434\n"
     ]
    }
   ],
   "source": [
    "PROCESSED_PATH = [\n",
    "    CWD + '/dataset/processed/glioma_tumor',\n",
    "    CWD + '/dataset/processed/meningioma_tumor',\n",
    "    CWD + '/dataset/processed/pituitary_tumor',\n",
    "    CWD + '/dataset/processed/normal'\n",
    "]\n",
    "\n",
    "list_images = [glioma, meningioma, pituitary, normal]\n",
    "list_image_names = [glioma_names, meningioma_names, pituitary_names, normal_names]\n",
    "\n",
    "save_images(list_images, list_image_names, 'processed', PROCESSED_PATH, prefix='aug')"
   ]
  },
  {
   "cell_type": "code",
   "execution_count": null,
   "id": "6a85e523-b77a-41b3-99f1-7735e25e1e2e",
   "metadata": {},
   "outputs": [],
   "source": []
  }
 ],
 "metadata": {
  "kernelspec": {
   "display_name": "Python 3 (ipykernel)",
   "language": "python",
   "name": "python3"
  },
  "language_info": {
   "codemirror_mode": {
    "name": "ipython",
    "version": 3
   },
   "file_extension": ".py",
   "mimetype": "text/x-python",
   "name": "python",
   "nbconvert_exporter": "python",
   "pygments_lexer": "ipython3",
   "version": "3.11.8"
  }
 },
 "nbformat": 4,
 "nbformat_minor": 5
}
